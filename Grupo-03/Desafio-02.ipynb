{
 "cells": [
  {
   "cell_type": "markdown",
   "metadata": {},
   "source": [
    "## Desafio: Alcançar o Último Índice 🏃‍♂️\n",
    "\n",
    "Você recebe uma matriz de números inteiros chamada ``nums``. Você está inicialmente posicionado no primeiro índice da matriz, e cada elemento na matriz representa o comprimento máximo do salto naquela posição.\n",
    "\n",
    "Retorne ``true`` se você puder alcançar o último índice, ou ``false`` caso contrário.\n",
    "\n",
    "#### Exemplo 1:\n",
    "\n",
    "Entrada: ``nums = [2,3,1,1,4]``\n",
    "\n",
    "Saída: ``true``\n",
    "\n",
    "Explicação: \n",
    "\n",
    "Dê um salto de 1 passo do índice 0 para o 1, depois 3 passos até o último índice.\n",
    "\n",
    "<br>\n",
    "\n",
    "#### Exemplo 2:\n",
    "\n",
    "Entrada: ``nums = [3,2,1,0,4]``\n",
    "\n",
    "Saída: ``false``\n",
    "\n",
    "Explicação: \n",
    "\n",
    "Você sempre chegará ao índice 3, não importa o que aconteça. Seu comprimento máximo de salto é 0, o que torna impossível alcançar o último índice.\n",
    "\n",
    "\n",
    "#### Restrições:\n",
    "\n",
    "1 <= nums.length <= 10^4\n",
    "\n",
    "0 <= nums[i] <= 10^5\n",
    "\n",
    "🔍 Tente encontrar uma estratégia eficiente para determinar se é possível alcançar o último índice apenas olhando para os comprimentos máximos de salto em cada posição da matriz. Boa sorte! 💪"
   ]
  },
  {
   "cell_type": "code",
   "execution_count": null,
   "metadata": {},
   "outputs": [],
   "source": [
    "class Solution:\n",
    "    def canJump(self, nums: List[int]) -> bool:\n",
    "        # Seu código começa aqui"
   ]
  }
 ],
 "metadata": {
  "kernelspec": {
   "display_name": "Python 3",
   "language": "python",
   "name": "python3"
  },
  "language_info": {
   "name": "python",
   "version": "3.11.7"
  }
 },
 "nbformat": 4,
 "nbformat_minor": 2
}
