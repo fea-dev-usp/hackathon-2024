{
 "cells": [
  {
   "cell_type": "markdown",
   "metadata": {},
   "source": [
    "## Desafio 1 - 🎉 **Distribuição de Dinheiro para Crianças!** 🎈\n",
    "\n",
    "Você recebe um número inteiro ``money``, que representa a quantidade de dinheiro (em dólares) que você tem, e outro número inteiro ``children``, que representa o número de crianças para as quais você deve distribuir o dinheiro.\n",
    "\n",
    "Você precisa distribuir o dinheiro de acordo com as seguintes regras:\n",
    "\n",
    "- Todo o dinheiro deve ser distribuído.\n",
    "- Cada pessoa deve receber pelo menos ``1`` dólar.\n",
    "- Ninguém pode receber ``4`` dólares.\n",
    "\n",
    "Retorne o número máximo de crianças que podem receber exatamente ``8`` dólares se você distribuir o dinheiro de acordo com as regras mencionadas anteriormente. Se não houver uma maneira de distribuir o dinheiro, retorne ``-1``.\n",
    "\n",
    "#### Exemplo 1:\n",
    "\n",
    "Input: ``money = 20``, ``children = 3``\n",
    "\n",
    "Output: 1\n",
    "\n",
    "Explicação: \n",
    "O número máximo de crianças que podem receber 8 dólares será 1. Uma das maneiras de distribuir o dinheiro é:\n",
    "- 8 dólares para a primeira criança.\n",
    "- 9 dólares para a segunda criança.\n",
    "- 3 dólares para a terceira criança.\n",
    "\n",
    "Pode ser provado que não existe uma distribuição em que o número de crianças recebendo 8 dólares seja maior que 1.\n",
    "\n",
    "<br>\n",
    "\n",
    "#### Exemplo 2:\n",
    "\n",
    "Entrada: dinheiro = 16, crianças = 2\n",
    "\n",
    "Saída: 2\n",
    "\n",
    "Explicação: Cada criança pode receber 8 dólares.\n",
    "\n",
    "##### Restrições:\n",
    "\n",
    "1 <= dinheiro <= 200\n",
    "\n",
    "2 <= crianças <= 30"
   ]
  },
  {
   "cell_type": "code",
   "execution_count": 4,
   "metadata": {},
   "outputs": [],
   "source": [
    "class Solution:\n",
    "    def distMoney(self, money: int, children: int) -> int:\n",
    "        if money%8 == 0 and money/children == 8: # m é mult de 8 e C = m/8 sem resto\n",
    "            return money//8\n",
    "        elif money/children > 8: # sobra dinheiro\n",
    "            return money//8 - (money-(8*(children-1)))//8\n",
    "        elif money/children < 8 and money/children >= 1: # falta dinheiro\n",
    "            if (money%8)/children == 0:\n",
    "                return money//8 - 1\n",
    "            elif (money%8)/(children-money//8)!= 4 and (money%8)/(children-money//8)>=1:\n",
    "                return money//8\n",
    "            else:\n",
    "                return money//8 - 1\n",
    "        else:\n",
    "            return -1"
   ]
  }
 ],
 "metadata": {
  "kernelspec": {
   "display_name": "Python 3",
   "language": "python",
   "name": "python3"
  },
  "language_info": {
   "codemirror_mode": {
    "name": "ipython",
    "version": 3
   },
   "file_extension": ".py",
   "mimetype": "text/x-python",
   "name": "python",
   "nbconvert_exporter": "python",
   "pygments_lexer": "ipython3",
   "version": "3.11.7"
  }
 },
 "nbformat": 4,
 "nbformat_minor": 2
}
